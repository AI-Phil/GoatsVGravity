{
 "cells": [
  {
   "cell_type": "markdown",
   "metadata": {},
   "source": [
    "We are going to ingest two scientific papers from two different disciplines:\n",
    "\n",
    "1. [LIGO: The Laser Interferometer Gravitational-Wave Observatory](https://arxiv.org/pdf/0711.3041.pdf)\n",
    "2. [Livestock as a potential biological control agent for an invasive wetland plant](https://peerj.com/articles/567/)\n",
    "3. [Quantum black holes as classical space factories](https://arxiv.org/abs/2308.15519)\n",
    "4. [Effects of Invasive Goats (Capra hircus) on Mediterranean Island Communities](https://deepblue.lib.umich.edu/handle/2027.42/117674)\n",
    "\n",
    "The object of this notebook is to create a file [data/text.pkl](data/text.pkl) that contains the text of the papers in a format that is easy to work with, and for which OpenAI embeddings have already been generated."
   ]
  },
  {
   "cell_type": "markdown",
   "metadata": {},
   "source": [
    "## Dependencies\n",
    "\n",
    "The following are in addition to that in [requirements.txt](requirements.txt):\n",
    "\n",
    "```\n",
    "pip install openai==0.28.0 python-dotenv==1.0.0 tqdm==4.66.1 PyMuPDF==1.23.3\n",
    "```\n",
    "\n",
    "You will also need `OPENAI_API_KEY` defined in your `.env` file, or modify the below code to use your API key directly."
   ]
  },
  {
   "cell_type": "markdown",
   "metadata": {},
   "source": [
    "## Pre-Processing\n",
    "\n",
    "The PDFs have been downloaded and manually processed into text files. \n",
    "\n",
    "```python\n",
    "import fitz\n",
    "doc = fitz.open('docs/example.pdf')\n",
    "text = \"\"\n",
    "for page in doc:\n",
    "   text+=page.get_text()\n",
    "with open('docs/example.txt', 'w', encoding='utf-8') as f:\n",
    "    f.write(text)\n",
    "```\n",
    "\n",
    "Further processing involved:\n",
    "1. Extracting the title onto a single line\n",
    "2. Extracting the content into a line per paragraph\n",
    "   - Authors have been removed\n",
    "   - Citations / references have been removed\n",
    "   - Figure / Table captions remain, each on their own line\n",
    "\n",
    "The first 31 paragraphs of content, plus the title, are thus captured into their respective files."
   ]
  },
  {
   "cell_type": "markdown",
   "metadata": {},
   "source": [
    "## Load Text into DataFrame"
   ]
  },
  {
   "cell_type": "code",
   "execution_count": 1,
   "metadata": {},
   "outputs": [
    {
     "name": "stdout",
     "output_type": "stream",
     "text": [
      "              type                                               text\n",
      "0            goats  Livestock as a potential biological control ag...\n",
      "1            goats  Invasive species threaten biodiversity and inc...\n",
      "2            goats  Invasive species globally threaten biodiversit...\n",
      "3            goats  Invasive plants that form expansive monocultur...\n",
      "4            goats  Under natural field settings, there is broad s...\n",
      "..             ...                                                ...\n",
      "123  invasivegoats  Soil Effects. In this system, soil chemical ch...\n",
      "124  invasivegoats  Effects on Arthropods. We did not observe an e...\n",
      "125  invasivegoats  Our observations of increasing estimated arthr...\n",
      "126  invasivegoats  Effects of Seabirds. Seabirds drive these isle...\n",
      "127  invasivegoats  Seabirds can also reduce plant biomass by tram...\n",
      "\n",
      "[128 rows x 2 columns]\n"
     ]
    }
   ],
   "source": [
    "import pandas as pd\n",
    "\n",
    "# Function to read a text file and return its lines as a list\n",
    "def read_file(file_path):\n",
    "    with open(file_path, 'r', encoding='utf-8') as f:\n",
    "        return f.readlines()\n",
    "\n",
    "# Read the lines from the two text files\n",
    "goats_lines = read_file('docs/goats.txt')\n",
    "gravity_lines = read_file('docs/gravity.txt')\n",
    "blackholes_lines = read_file('docs/blackholes.txt')\n",
    "invasivegoats_lines = read_file('docs/invasivegoats.txt')\n",
    "\n",
    "# Create DataFrames for each file\n",
    "df_goats = pd.DataFrame({'type': 'goats', 'text': goats_lines})\n",
    "df_gravity = pd.DataFrame({'type': 'gravity', 'text': gravity_lines})\n",
    "df_blackholes = pd.DataFrame({'type': 'blackholes', 'text': blackholes_lines})\n",
    "df_invasivegoats = pd.DataFrame({'type': 'invasivegoats', 'text': invasivegoats_lines})\n",
    "\n",
    "# Combine the DataFrames\n",
    "df_combined = pd.concat([df_goats, df_gravity, df_blackholes, df_invasivegoats]).reset_index(drop=True)\n",
    "\n",
    "# Show the combined DataFrame\n",
    "print(df_combined)"
   ]
  },
  {
   "cell_type": "markdown",
   "metadata": {},
   "source": [
    "## Compute OpenAI Embeddings"
   ]
  },
  {
   "cell_type": "code",
   "execution_count": 2,
   "metadata": {},
   "outputs": [
    {
     "name": "stderr",
     "output_type": "stream",
     "text": [
      "Getting embeddings: 100%|██████████| 128/128 [00:42<00:00,  3.04text/s]\n"
     ]
    },
    {
     "data": {
      "text/html": [
       "<div>\n",
       "<style scoped>\n",
       "    .dataframe tbody tr th:only-of-type {\n",
       "        vertical-align: middle;\n",
       "    }\n",
       "\n",
       "    .dataframe tbody tr th {\n",
       "        vertical-align: top;\n",
       "    }\n",
       "\n",
       "    .dataframe thead th {\n",
       "        text-align: right;\n",
       "    }\n",
       "</style>\n",
       "<table border=\"1\" class=\"dataframe\">\n",
       "  <thead>\n",
       "    <tr style=\"text-align: right;\">\n",
       "      <th></th>\n",
       "      <th>type</th>\n",
       "      <th>text</th>\n",
       "      <th>openaiEmbeddings</th>\n",
       "    </tr>\n",
       "  </thead>\n",
       "  <tbody>\n",
       "    <tr>\n",
       "      <th>0</th>\n",
       "      <td>goats</td>\n",
       "      <td>Livestock as a potential biological control ag...</td>\n",
       "      <td>[-0.014313258230686188, -0.009999215602874756,...</td>\n",
       "    </tr>\n",
       "    <tr>\n",
       "      <th>1</th>\n",
       "      <td>goats</td>\n",
       "      <td>Invasive species threaten biodiversity and inc...</td>\n",
       "      <td>[-0.014021526090800762, -0.01595783233642578, ...</td>\n",
       "    </tr>\n",
       "    <tr>\n",
       "      <th>2</th>\n",
       "      <td>goats</td>\n",
       "      <td>Invasive species globally threaten biodiversit...</td>\n",
       "      <td>[-0.002096143551170826, -0.012656336650252342,...</td>\n",
       "    </tr>\n",
       "    <tr>\n",
       "      <th>3</th>\n",
       "      <td>goats</td>\n",
       "      <td>Invasive plants that form expansive monocultur...</td>\n",
       "      <td>[-0.012120183557271957, -0.0009395491215400398...</td>\n",
       "    </tr>\n",
       "    <tr>\n",
       "      <th>4</th>\n",
       "      <td>goats</td>\n",
       "      <td>Under natural field settings, there is broad s...</td>\n",
       "      <td>[-0.010701132006943226, -0.006763485725969076,...</td>\n",
       "    </tr>\n",
       "    <tr>\n",
       "      <th>...</th>\n",
       "      <td>...</td>\n",
       "      <td>...</td>\n",
       "      <td>...</td>\n",
       "    </tr>\n",
       "    <tr>\n",
       "      <th>123</th>\n",
       "      <td>invasivegoats</td>\n",
       "      <td>Soil Effects. In this system, soil chemical ch...</td>\n",
       "      <td>[0.018184464424848557, -0.0065793865360319614,...</td>\n",
       "    </tr>\n",
       "    <tr>\n",
       "      <th>124</th>\n",
       "      <td>invasivegoats</td>\n",
       "      <td>Effects on Arthropods. We did not observe an e...</td>\n",
       "      <td>[0.006668189540505409, -0.007469975855201483, ...</td>\n",
       "    </tr>\n",
       "    <tr>\n",
       "      <th>125</th>\n",
       "      <td>invasivegoats</td>\n",
       "      <td>Our observations of increasing estimated arthr...</td>\n",
       "      <td>[0.02312556654214859, -0.0031290866900235415, ...</td>\n",
       "    </tr>\n",
       "    <tr>\n",
       "      <th>126</th>\n",
       "      <td>invasivegoats</td>\n",
       "      <td>Effects of Seabirds. Seabirds drive these isle...</td>\n",
       "      <td>[-0.005768843926489353, -0.022223688662052155,...</td>\n",
       "    </tr>\n",
       "    <tr>\n",
       "      <th>127</th>\n",
       "      <td>invasivegoats</td>\n",
       "      <td>Seabirds can also reduce plant biomass by tram...</td>\n",
       "      <td>[-0.00574486842378974, -0.007757063955068588, ...</td>\n",
       "    </tr>\n",
       "  </tbody>\n",
       "</table>\n",
       "<p>128 rows × 3 columns</p>\n",
       "</div>"
      ],
      "text/plain": [
       "              type                                               text  \\\n",
       "0            goats  Livestock as a potential biological control ag...   \n",
       "1            goats  Invasive species threaten biodiversity and inc...   \n",
       "2            goats  Invasive species globally threaten biodiversit...   \n",
       "3            goats  Invasive plants that form expansive monocultur...   \n",
       "4            goats  Under natural field settings, there is broad s...   \n",
       "..             ...                                                ...   \n",
       "123  invasivegoats  Soil Effects. In this system, soil chemical ch...   \n",
       "124  invasivegoats  Effects on Arthropods. We did not observe an e...   \n",
       "125  invasivegoats  Our observations of increasing estimated arthr...   \n",
       "126  invasivegoats  Effects of Seabirds. Seabirds drive these isle...   \n",
       "127  invasivegoats  Seabirds can also reduce plant biomass by tram...   \n",
       "\n",
       "                                      openaiEmbeddings  \n",
       "0    [-0.014313258230686188, -0.009999215602874756,...  \n",
       "1    [-0.014021526090800762, -0.01595783233642578, ...  \n",
       "2    [-0.002096143551170826, -0.012656336650252342,...  \n",
       "3    [-0.012120183557271957, -0.0009395491215400398...  \n",
       "4    [-0.010701132006943226, -0.006763485725969076,...  \n",
       "..                                                 ...  \n",
       "123  [0.018184464424848557, -0.0065793865360319614,...  \n",
       "124  [0.006668189540505409, -0.007469975855201483, ...  \n",
       "125  [0.02312556654214859, -0.0031290866900235415, ...  \n",
       "126  [-0.005768843926489353, -0.022223688662052155,...  \n",
       "127  [-0.00574486842378974, -0.007757063955068588, ...  \n",
       "\n",
       "[128 rows x 3 columns]"
      ]
     },
     "execution_count": 2,
     "metadata": {},
     "output_type": "execute_result"
    }
   ],
   "source": [
    "openai_embed_model = \"text-embedding-ada-002\"\n",
    "\n",
    "import os\n",
    "from dotenv import load_dotenv\n",
    "if not load_dotenv('.env',override=True):\n",
    "    raise Exception(\"Couldn't load .env file\")\n",
    "\n",
    "envVars = ['OPENAI_API_KEY']\n",
    "missing = []\n",
    "\n",
    "for var in envVars:\n",
    "    if var not in os.environ:\n",
    "        missing.append(var)\n",
    "\n",
    "if missing:\n",
    "    raise EnvironmentError(f'These environment variables are missing: {missing}')\n",
    "\n",
    "import openai\n",
    "import time\n",
    "import numpy as np\n",
    "from tqdm import tqdm\n",
    "\n",
    "def get_embeddings(text_list):\n",
    "    embedding_list = []\n",
    "    for text in tqdm(text_list, desc='Getting embeddings', unit='text'):\n",
    "        done = False\n",
    "        while not done:\n",
    "            try:\n",
    "                response = openai.Embedding.create(input=[text], engine=openai_embed_model)\n",
    "                embedding_list.append(response['data'][0]['embedding'])\n",
    "                done = True\n",
    "            except Exception as e:\n",
    "                print(f\"Exception occurred: {e}. Retrying in 5 seconds...\")\n",
    "                time.sleep(5)\n",
    "    \n",
    "    return embedding_list\n",
    "\n",
    "embedding_results = get_embeddings(df_combined['text'])\n",
    "df_combined['openaiEmbeddings'] = embedding_results\n",
    "df_combined"
   ]
  },
  {
   "cell_type": "code",
   "execution_count": 3,
   "metadata": {},
   "outputs": [
    {
     "name": "stdout",
     "output_type": "stream",
     "text": [
      "               text  openaiEmbeddings\n",
      "type                                 \n",
      "blackholes       32                32\n",
      "goats            32                32\n",
      "gravity          32                32\n",
      "invasivegoats    32                32\n"
     ]
    }
   ],
   "source": [
    "# All three values are 128 non-null values\n",
    "print(df_combined.groupby('type').count())"
   ]
  },
  {
   "cell_type": "markdown",
   "metadata": {},
   "source": [
    "And we will save for use in the next notebook!"
   ]
  },
  {
   "cell_type": "code",
   "execution_count": null,
   "metadata": {},
   "outputs": [],
   "source": [
    "df_combined.to_pickle('data/text.pkl')"
   ]
  }
 ],
 "metadata": {
  "kernelspec": {
   "display_name": ".venv",
   "language": "python",
   "name": "python3"
  },
  "language_info": {
   "codemirror_mode": {
    "name": "ipython",
    "version": 3
   },
   "file_extension": ".py",
   "mimetype": "text/x-python",
   "name": "python",
   "nbconvert_exporter": "python",
   "pygments_lexer": "ipython3",
   "version": "3.11.4"
  },
  "orig_nbformat": 4
 },
 "nbformat": 4,
 "nbformat_minor": 2
}
